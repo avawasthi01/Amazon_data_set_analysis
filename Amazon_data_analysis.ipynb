{
 "cells": [
  {
   "cell_type": "code",
   "execution_count": 11,
   "id": "d50d3d0b",
   "metadata": {},
   "outputs": [],
   "source": []
  },
  {
   "cell_type": "markdown",
   "id": "fe1b119c",
   "metadata": {},
   "source": [
    "# Problem Statement :\n",
    "Find number of job openings in Bangalore,IN and in Seattle,US?\n",
    "Print the Number of Job opening in Bangalore and Seattle as Integer value.\n",
    "Output Format :\n",
    "CountBangalore CountSeattle"
   ]
  },
  {
   "cell_type": "code",
   "execution_count": 33,
   "id": "5037bd89",
   "metadata": {},
   "outputs": [
    {
     "name": "stdout",
     "output_type": "stream",
     "text": [
      "66   1856\n"
     ]
    }
   ],
   "source": [
    "import csv\n",
    "with open(\"Amazon_jobs_dataset _amazon_jobs_dataset.csv\") as file_obj:\n",
    "    l=csv.DictReader(file_obj,skipinitialspace=True)\n",
    "    rec=list(l)\n",
    "    sum1=0\n",
    "    sum2=0\n",
    "    for job_opening in rec:\n",
    "        \n",
    "        if job_opening['location'].strip() =='IN, KA, Bangalore':\n",
    "            sum1=sum1+1\n",
    "        if job_opening['location'].strip() == 'US, WA, Seattle':\n",
    "            sum2=sum2+1\n",
    "    print(sum1,\" \",sum2)"
   ]
  },
  {
   "cell_type": "markdown",
   "id": "56819f2e",
   "metadata": {},
   "source": [
    "# Problem Statement :\n",
    "What are the total number of job openings related to Computer Vision ?\n",
    "Note:For finding the job related to computer vision check the Job Title column.\n",
    "Print the count as the Integer Value\n",
    "Output Format :\n",
    "Count"
   ]
  },
  {
   "cell_type": "code",
   "execution_count": 35,
   "id": "abb1c401",
   "metadata": {},
   "outputs": [
    {
     "name": "stdout",
     "output_type": "stream",
     "text": [
      "14\n"
     ]
    }
   ],
   "source": [
    "import csv\n",
    "with open(\"Amazon_jobs_dataset _amazon_jobs_dataset.csv\") as file_obj:\n",
    "    l=csv.DictReader(file_obj,skipinitialspace=True)\n",
    "    rec=list(l)\n",
    "    sum1=0\n",
    "    for job_opening in rec:\n",
    "        if 'Computer Vision' in job_opening['Title']:\n",
    "            sum1=sum1+1\n",
    "    print(sum1)"
   ]
  },
  {
   "cell_type": "markdown",
   "id": "4b96fe5f",
   "metadata": {},
   "source": [
    "# Problem Statement :\n",
    "Find the number of job openings in Canada?\n",
    "Print the count as the Integer Value\n",
    "Note: Here you should analyse the country code in location feature.( you can use dictionary for analyse part ).\n",
    "Output Format :\n",
    "Count"
   ]
  },
  {
   "cell_type": "code",
   "execution_count": 37,
   "id": "90bdaae5",
   "metadata": {},
   "outputs": [
    {
     "name": "stdout",
     "output_type": "stream",
     "text": [
      "156\n"
     ]
    }
   ],
   "source": [
    "import csv\n",
    "with open(\"Amazon_jobs_dataset _amazon_jobs_dataset.csv\") as file_obj:\n",
    "    l=csv.DictReader(file_obj,skipinitialspace=True)\n",
    "    rec=list(l)\n",
    "    sum1=0\n",
    "    for job_open in rec:\n",
    "        if job_open['location'][:2] == 'CA':\n",
    "            sum1=sum1+1\n",
    "    print(sum1)"
   ]
  },
  {
   "cell_type": "markdown",
   "id": "1b3dc057",
   "metadata": {},
   "source": [
    "# Problem Statement :\n",
    "Find the month having most job openings in Year 2018 ?\n",
    "Print the month (Month Name i.e January, February, March) and Number of job opening as Integer Value\n",
    "Output Format :\n",
    "MonthName Count"
   ]
  },
  {
   "cell_type": "code",
   "execution_count": 72,
   "id": "496a04fb",
   "metadata": {},
   "outputs": [
    {
     "name": "stdout",
     "output_type": "stream",
     "text": [
      "('March', 13)\n"
     ]
    }
   ],
   "source": [
    "import csv\n",
    "with open(\"Amazon_jobs_dataset _amazon_jobs_dataset.csv\") as file_obj:\n",
    "    l=csv.DictReader(file_obj,skipinitialspace=True)\n",
    "    rec=list(l)\n",
    "    Month_count={}\n",
    "    Month_count_key=[]\n",
    "    for i in rec:\n",
    "        if i['Posting_date'].split()[2] == '2018':\n",
    "            if i['Posting_date'].split()[0] in Month_count:\n",
    "                Month_count[i['Posting_date'].split()[0]]+=1\n",
    "            else:\n",
    "                Month_count[i['Posting_date'].split()[0]]=1\n",
    "    print(sorted(Month_count.items(),key = lambda kv: (kv[1],kv[0]),reverse =True)[0])\n",
    "    \n",
    "    "
   ]
  },
  {
   "cell_type": "markdown",
   "id": "7da8018d",
   "metadata": {},
   "source": [
    "# Problem Statement :\n",
    "Find the number of job openings are present if applicant have Bachelor degree?\n",
    "Print the count as Integer value\n",
    "Note : Here we will use the BASIC QUALIFICATIONS feature to find out whether bachelor degree for Job is required or not. Keywords that can be used are 'Bachelor', 'BS' and 'BA'.\n",
    "Output Format :\n",
    "Count"
   ]
  },
  {
   "cell_type": "code",
   "execution_count": 80,
   "id": "5a2401f3",
   "metadata": {},
   "outputs": [
    {
     "name": "stdout",
     "output_type": "stream",
     "text": [
      "2961\n"
     ]
    }
   ],
   "source": [
    "import csv\n",
    "with open(\"Amazon_jobs_dataset _amazon_jobs_dataset.csv\") as file_obj:\n",
    "    l=csv.DictReader(file_obj,skipinitialspace=True)\n",
    "    rec=list(l)\n",
    "    sum1=0\n",
    "    for i in rec:\n",
    "        if 'Bachelor'in i['BASIC QUALIFICATIONS'] or 'BS' in i['BASIC QUALIFICATIONS'] or 'BA' in i['BASIC QUALIFICATIONS']:\n",
    "            sum1+=1\n",
    "    print(sum1)"
   ]
  },
  {
   "cell_type": "markdown",
   "id": "4be10528",
   "metadata": {},
   "source": [
    "# Problem Statement :\n",
    "Among Java, C++ and Python, which of the language has more job openings in India for Bachelor Degree Holder?\n",
    "Print the Language(i.e Java,C++,Python) and number of job opening as integer value.\n",
    "Note : Here we will use the BASIC QUALIFICATIONS feature to find out whether bachelor degree for Job is required or not. Keywords that can be used are 'Bachelor', 'BS' and 'BA' and we will use the BASIC QUALIFICATIONS feature to find out whether Language is required for the job or not.Keywords that is used for language searching are 'Java','C++' or 'Python'.(There case should not be changed).\n",
    "Output Format :\n",
    "Language Count\n"
   ]
  },
  {
   "cell_type": "code",
   "execution_count": 90,
   "id": "45746044",
   "metadata": {},
   "outputs": [
    {
     "name": "stdout",
     "output_type": "stream",
     "text": [
      "('Java', 103)\n"
     ]
    }
   ],
   "source": [
    "import csv\n",
    "with open(\"Amazon_jobs_dataset _amazon_jobs_dataset.csv\") as file_obj:\n",
    "    l=csv.DictReader(file_obj,skipinitialspace=True)\n",
    "    rec=list(l)\n",
    "    lang={\"Java\":0,\"Python\":0,\"C++\":0}\n",
    "    for i in rec:\n",
    "        \n",
    "        if i['location'].split(',')[0] == 'IN' and ('Bachelor'in i['BASIC QUALIFICATIONS'] or 'BS' in i['BASIC QUALIFICATIONS'] or 'BA' in i['BASIC QUALIFICATIONS']):\n",
    "            if 'Java' in i['BASIC QUALIFICATIONS']:\n",
    "                lang['Java']+=1\n",
    "            if 'Python' in i['BASIC QUALIFICATIONS']:\n",
    "                lang['Python']+=1\n",
    "            if 'C++' in i['BASIC QUALIFICATIONS']:\n",
    "                lang['C++']+=1\n",
    "    print(sorted(lang.items(),key= lambda kv:(kv[1],kv[0]))[-1])"
   ]
  },
  {
   "cell_type": "markdown",
   "id": "c32f2844",
   "metadata": {},
   "source": [
    "# Problem Statement :\n",
    "Find the country does Amazon need the most number of Java Developer?\n",
    "Print the Country(Country Shortcut as given in Dataset) and number of job opening as integer value\n",
    "Note :Here we will use the BASIC QUALIFICATIONS feature to find out whether Java is required for the job or not.Keyword is used is 'Java'.(Here case should not be changed).\n",
    "\n",
    "\n",
    "Output Format :\n",
    "\n",
    "\n",
    "Country NumberofJobs\n",
    "For example : US 40"
   ]
  },
  {
   "cell_type": "code",
   "execution_count": 92,
   "id": "2eacf745",
   "metadata": {},
   "outputs": [
    {
     "name": "stdout",
     "output_type": "stream",
     "text": [
      "('US', 2009)\n"
     ]
    }
   ],
   "source": [
    "import csv\n",
    "with open(\"Amazon_jobs_dataset _amazon_jobs_dataset.csv\") as file_obj:\n",
    "    l=csv.DictReader(file_obj,skipinitialspace=True)\n",
    "    rec=list(l)\n",
    "    country_based_jave_dev={}\n",
    "    for i in rec:\n",
    "        if 'Java' in i['BASIC QUALIFICATIONS']:\n",
    "            if i['location'].split(',')[0] in country_based_jave_dev:\n",
    "                country_based_jave_dev[i['location'].split(',')[0]]+=1\n",
    "            else:\n",
    "                country_based_jave_dev[i['location'].split(',')[0]]=1\n",
    "            \n",
    "print(sorted(country_based_jave_dev.items(),key = lambda kv:(kv[1],kv[0]))[-1])\n",
    "    "
   ]
  },
  {
   "cell_type": "code",
   "execution_count": null,
   "id": "a932c08c",
   "metadata": {},
   "outputs": [],
   "source": []
  }
 ],
 "metadata": {
  "kernelspec": {
   "display_name": "Python 3 (ipykernel)",
   "language": "python",
   "name": "python3"
  },
  "language_info": {
   "codemirror_mode": {
    "name": "ipython",
    "version": 3
   },
   "file_extension": ".py",
   "mimetype": "text/x-python",
   "name": "python",
   "nbconvert_exporter": "python",
   "pygments_lexer": "ipython3",
   "version": "3.9.12"
  }
 },
 "nbformat": 4,
 "nbformat_minor": 5
}
